{
 "metadata": {
  "language_info": {
   "codemirror_mode": {
    "name": "ipython",
    "version": 3
   },
   "file_extension": ".py",
   "mimetype": "text/x-python",
   "name": "python",
   "nbconvert_exporter": "python",
   "pygments_lexer": "ipython3",
   "version": "3.8.5"
  },
  "orig_nbformat": 4,
  "kernelspec": {
   "name": "python3",
   "display_name": "Python 3.8.5 64-bit ('base': conda)"
  },
  "interpreter": {
   "hash": "b3ba2566441a7c06988d0923437866b63cedc61552a5af99d1f4fb67d367b25f"
  }
 },
 "nbformat": 4,
 "nbformat_minor": 2,
 "cells": [
  {
   "cell_type": "code",
   "execution_count": 45,
   "metadata": {},
   "outputs": [],
   "source": [
    "#Import libraries\n",
    "\n",
    "import pandas as pd\n",
    "from numpy.lib.arraysetops import unique\n",
    "import numpy as np\n",
    "import matplotlib.pyplot as plt\n",
    "import seaborn as sns\n",
    "import matplotlib.ticker as mtick\n",
    "import datetime as dt\n",
    "import category_encoders as ce \n",
    "from sklearn.metrics import mean_squared_error,r2_score,accuracy_score\n",
    "from sklearn.kernel_ridge import KernelRidge\n",
    "from sklearn.model_selection import train_test_split\n",
    "from sklearn.linear_model import ElasticNet\n",
    "from sklearn.linear_model import Lasso\n",
    "from sklearn.preprocessing import RobustScaler\n"
   ]
  },
  {
   "cell_type": "code",
   "execution_count": 35,
   "metadata": {},
   "outputs": [],
   "source": [
    "#Read csv file\n",
    "\n",
    "dataset = pd.read_csv('CropProduction.csv')\n",
    "df=dataset.copy()"
   ]
  },
  {
   "cell_type": "code",
   "execution_count": 36,
   "metadata": {},
   "outputs": [
    {
     "output_type": "execute_result",
     "data": {
      "text/plain": [
       "        Date   Place     Area     Crop  Production\n",
       "0     735629    Atok  1774.99  Cabbage     922.928\n",
       "1     735657    Atok  1774.99  Cabbage    2153.498\n",
       "2     735688    Atok  1774.99  Cabbage    3384.069\n",
       "3     735718    Atok  1774.99  Cabbage    2153.498\n",
       "4     735749    Atok  1774.99  Cabbage    3691.711\n",
       "...      ...     ...      ...      ...         ...\n",
       "6559  737302  Tublay     8.60  Carrots       2.413\n",
       "6560  737332  Tublay     8.60  Carrots       3.235\n",
       "6561  737363  Tublay     8.60  Carrots       6.984\n",
       "6562  737393  Tublay     8.60  Carrots      21.670\n",
       "6563  737424  Tublay     8.60  Carrots      25.983\n",
       "\n",
       "[6564 rows x 5 columns]"
      ],
      "text/html": "<div>\n<style scoped>\n    .dataframe tbody tr th:only-of-type {\n        vertical-align: middle;\n    }\n\n    .dataframe tbody tr th {\n        vertical-align: top;\n    }\n\n    .dataframe thead th {\n        text-align: right;\n    }\n</style>\n<table border=\"1\" class=\"dataframe\">\n  <thead>\n    <tr style=\"text-align: right;\">\n      <th></th>\n      <th>Date</th>\n      <th>Place</th>\n      <th>Area</th>\n      <th>Crop</th>\n      <th>Production</th>\n    </tr>\n  </thead>\n  <tbody>\n    <tr>\n      <th>0</th>\n      <td>735629</td>\n      <td>Atok</td>\n      <td>1774.99</td>\n      <td>Cabbage</td>\n      <td>922.928</td>\n    </tr>\n    <tr>\n      <th>1</th>\n      <td>735657</td>\n      <td>Atok</td>\n      <td>1774.99</td>\n      <td>Cabbage</td>\n      <td>2153.498</td>\n    </tr>\n    <tr>\n      <th>2</th>\n      <td>735688</td>\n      <td>Atok</td>\n      <td>1774.99</td>\n      <td>Cabbage</td>\n      <td>3384.069</td>\n    </tr>\n    <tr>\n      <th>3</th>\n      <td>735718</td>\n      <td>Atok</td>\n      <td>1774.99</td>\n      <td>Cabbage</td>\n      <td>2153.498</td>\n    </tr>\n    <tr>\n      <th>4</th>\n      <td>735749</td>\n      <td>Atok</td>\n      <td>1774.99</td>\n      <td>Cabbage</td>\n      <td>3691.711</td>\n    </tr>\n    <tr>\n      <th>...</th>\n      <td>...</td>\n      <td>...</td>\n      <td>...</td>\n      <td>...</td>\n      <td>...</td>\n    </tr>\n    <tr>\n      <th>6559</th>\n      <td>737302</td>\n      <td>Tublay</td>\n      <td>8.60</td>\n      <td>Carrots</td>\n      <td>2.413</td>\n    </tr>\n    <tr>\n      <th>6560</th>\n      <td>737332</td>\n      <td>Tublay</td>\n      <td>8.60</td>\n      <td>Carrots</td>\n      <td>3.235</td>\n    </tr>\n    <tr>\n      <th>6561</th>\n      <td>737363</td>\n      <td>Tublay</td>\n      <td>8.60</td>\n      <td>Carrots</td>\n      <td>6.984</td>\n    </tr>\n    <tr>\n      <th>6562</th>\n      <td>737393</td>\n      <td>Tublay</td>\n      <td>8.60</td>\n      <td>Carrots</td>\n      <td>21.670</td>\n    </tr>\n    <tr>\n      <th>6563</th>\n      <td>737424</td>\n      <td>Tublay</td>\n      <td>8.60</td>\n      <td>Carrots</td>\n      <td>25.983</td>\n    </tr>\n  </tbody>\n</table>\n<p>6564 rows × 5 columns</p>\n</div>"
     },
     "metadata": {},
     "execution_count": 36
    }
   ],
   "source": [
    "#Convert date column to ordinal\n",
    "df['Date'] = pd.to_datetime(df['Date'])\n",
    "df['Date'] = df['Date'].map(dt.datetime.toordinal)\n",
    "#Convert Area to numeric\n",
    "df = df.replace(',','', regex=True)\n",
    "df['Area'] = df['Area'].astype('float64')\n",
    "\n",
    "df"
   ]
  },
  {
   "cell_type": "code",
   "execution_count": 37,
   "metadata": {},
   "outputs": [
    {
     "output_type": "execute_result",
     "data": {
      "text/plain": [
       "        Date   Place     Area     Crop  Production\n",
       "0     735629    Atok  1774.99  Cabbage     922.928\n",
       "1     735657    Atok  1774.99  Cabbage    2153.498\n",
       "2     735688    Atok  1774.99  Cabbage    3384.069\n",
       "3     735718    Atok  1774.99  Cabbage    2153.498\n",
       "4     735749    Atok  1774.99  Cabbage    3691.711\n",
       "...      ...     ...      ...      ...         ...\n",
       "6559  737302  Tublay     8.60  Carrots       2.413\n",
       "6560  737332  Tublay     8.60  Carrots       3.235\n",
       "6561  737363  Tublay     8.60  Carrots       6.984\n",
       "6562  737393  Tublay     8.60  Carrots      21.670\n",
       "6563  737424  Tublay     8.60  Carrots      25.983\n",
       "\n",
       "[6564 rows x 5 columns]"
      ],
      "text/html": "<div>\n<style scoped>\n    .dataframe tbody tr th:only-of-type {\n        vertical-align: middle;\n    }\n\n    .dataframe tbody tr th {\n        vertical-align: top;\n    }\n\n    .dataframe thead th {\n        text-align: right;\n    }\n</style>\n<table border=\"1\" class=\"dataframe\">\n  <thead>\n    <tr style=\"text-align: right;\">\n      <th></th>\n      <th>Date</th>\n      <th>Place</th>\n      <th>Area</th>\n      <th>Crop</th>\n      <th>Production</th>\n    </tr>\n  </thead>\n  <tbody>\n    <tr>\n      <th>0</th>\n      <td>735629</td>\n      <td>Atok</td>\n      <td>1774.99</td>\n      <td>Cabbage</td>\n      <td>922.928</td>\n    </tr>\n    <tr>\n      <th>1</th>\n      <td>735657</td>\n      <td>Atok</td>\n      <td>1774.99</td>\n      <td>Cabbage</td>\n      <td>2153.498</td>\n    </tr>\n    <tr>\n      <th>2</th>\n      <td>735688</td>\n      <td>Atok</td>\n      <td>1774.99</td>\n      <td>Cabbage</td>\n      <td>3384.069</td>\n    </tr>\n    <tr>\n      <th>3</th>\n      <td>735718</td>\n      <td>Atok</td>\n      <td>1774.99</td>\n      <td>Cabbage</td>\n      <td>2153.498</td>\n    </tr>\n    <tr>\n      <th>4</th>\n      <td>735749</td>\n      <td>Atok</td>\n      <td>1774.99</td>\n      <td>Cabbage</td>\n      <td>3691.711</td>\n    </tr>\n    <tr>\n      <th>...</th>\n      <td>...</td>\n      <td>...</td>\n      <td>...</td>\n      <td>...</td>\n      <td>...</td>\n    </tr>\n    <tr>\n      <th>6559</th>\n      <td>737302</td>\n      <td>Tublay</td>\n      <td>8.60</td>\n      <td>Carrots</td>\n      <td>2.413</td>\n    </tr>\n    <tr>\n      <th>6560</th>\n      <td>737332</td>\n      <td>Tublay</td>\n      <td>8.60</td>\n      <td>Carrots</td>\n      <td>3.235</td>\n    </tr>\n    <tr>\n      <th>6561</th>\n      <td>737363</td>\n      <td>Tublay</td>\n      <td>8.60</td>\n      <td>Carrots</td>\n      <td>6.984</td>\n    </tr>\n    <tr>\n      <th>6562</th>\n      <td>737393</td>\n      <td>Tublay</td>\n      <td>8.60</td>\n      <td>Carrots</td>\n      <td>21.670</td>\n    </tr>\n    <tr>\n      <th>6563</th>\n      <td>737424</td>\n      <td>Tublay</td>\n      <td>8.60</td>\n      <td>Carrots</td>\n      <td>25.983</td>\n    </tr>\n  </tbody>\n</table>\n<p>6564 rows × 5 columns</p>\n</div>"
     },
     "metadata": {},
     "execution_count": 37
    }
   ],
   "source": [
    "#Craete copy of dataset\n",
    "df_subset = df.copy()\n",
    "df_subset"
   ]
  },
  {
   "cell_type": "code",
   "execution_count": 38,
   "metadata": {},
   "outputs": [],
   "source": [
    "df_subset.drop(df_subset[df_subset['Production']==260610.0].index, inplace = True)\n",
    "df_subset.drop(df_subset[df_subset['Production']==0.000000].index, inplace = True)"
   ]
  },
  {
   "cell_type": "code",
   "execution_count": 39,
   "metadata": {},
   "outputs": [
    {
     "output_type": "stream",
     "name": "stderr",
     "text": [
      "C:\\ProgramData\\Anaconda3\\lib\\site-packages\\category_encoders\\utils.py:21: FutureWarning: is_categorical is deprecated and will be removed in a future version.  Use is_categorical_dtype instead\n  elif pd.api.types.is_categorical(cols):\n"
     ]
    },
    {
     "output_type": "execute_result",
     "data": {
      "text/plain": [
       "     Date  Place_0  Place_1  Place_2  Place_3  Place_4     Area  Crop_0  \\\n",
       "0  735629        0        0        0        0        1  1774.99       0   \n",
       "1  735657        0        0        0        0        1  1774.99       0   \n",
       "2  735688        0        0        0        0        1  1774.99       0   \n",
       "3  735718        0        0        0        0        1  1774.99       0   \n",
       "4  735749        0        0        0        0        1  1774.99       0   \n",
       "\n",
       "   Crop_1  Crop_2  Crop_3  Crop_4  Production  \n",
       "0       0       0       0       1     922.928  \n",
       "1       0       0       0       1    2153.498  \n",
       "2       0       0       0       1    3384.069  \n",
       "3       0       0       0       1    2153.498  \n",
       "4       0       0       0       1    3691.711  "
      ],
      "text/html": "<div>\n<style scoped>\n    .dataframe tbody tr th:only-of-type {\n        vertical-align: middle;\n    }\n\n    .dataframe tbody tr th {\n        vertical-align: top;\n    }\n\n    .dataframe thead th {\n        text-align: right;\n    }\n</style>\n<table border=\"1\" class=\"dataframe\">\n  <thead>\n    <tr style=\"text-align: right;\">\n      <th></th>\n      <th>Date</th>\n      <th>Place_0</th>\n      <th>Place_1</th>\n      <th>Place_2</th>\n      <th>Place_3</th>\n      <th>Place_4</th>\n      <th>Area</th>\n      <th>Crop_0</th>\n      <th>Crop_1</th>\n      <th>Crop_2</th>\n      <th>Crop_3</th>\n      <th>Crop_4</th>\n      <th>Production</th>\n    </tr>\n  </thead>\n  <tbody>\n    <tr>\n      <th>0</th>\n      <td>735629</td>\n      <td>0</td>\n      <td>0</td>\n      <td>0</td>\n      <td>0</td>\n      <td>1</td>\n      <td>1774.99</td>\n      <td>0</td>\n      <td>0</td>\n      <td>0</td>\n      <td>0</td>\n      <td>1</td>\n      <td>922.928</td>\n    </tr>\n    <tr>\n      <th>1</th>\n      <td>735657</td>\n      <td>0</td>\n      <td>0</td>\n      <td>0</td>\n      <td>0</td>\n      <td>1</td>\n      <td>1774.99</td>\n      <td>0</td>\n      <td>0</td>\n      <td>0</td>\n      <td>0</td>\n      <td>1</td>\n      <td>2153.498</td>\n    </tr>\n    <tr>\n      <th>2</th>\n      <td>735688</td>\n      <td>0</td>\n      <td>0</td>\n      <td>0</td>\n      <td>0</td>\n      <td>1</td>\n      <td>1774.99</td>\n      <td>0</td>\n      <td>0</td>\n      <td>0</td>\n      <td>0</td>\n      <td>1</td>\n      <td>3384.069</td>\n    </tr>\n    <tr>\n      <th>3</th>\n      <td>735718</td>\n      <td>0</td>\n      <td>0</td>\n      <td>0</td>\n      <td>0</td>\n      <td>1</td>\n      <td>1774.99</td>\n      <td>0</td>\n      <td>0</td>\n      <td>0</td>\n      <td>0</td>\n      <td>1</td>\n      <td>2153.498</td>\n    </tr>\n    <tr>\n      <th>4</th>\n      <td>735749</td>\n      <td>0</td>\n      <td>0</td>\n      <td>0</td>\n      <td>0</td>\n      <td>1</td>\n      <td>1774.99</td>\n      <td>0</td>\n      <td>0</td>\n      <td>0</td>\n      <td>0</td>\n      <td>1</td>\n      <td>3691.711</td>\n    </tr>\n  </tbody>\n</table>\n</div>"
     },
     "metadata": {},
     "execution_count": 39
    }
   ],
   "source": [
    "#Convert categorical features to binary using BinaryEncoder\n",
    "\n",
    "categorical_features = list(df_subset.columns[df_subset.dtypes == object])\n",
    "encoder = ce.BinaryEncoder(cols=categorical_features)\n",
    "encoder_df = encoder.fit_transform(df_subset)\n",
    "\n",
    "encoder_df.head()"
   ]
  },
  {
   "cell_type": "code",
   "execution_count": 59,
   "metadata": {},
   "outputs": [
    {
     "output_type": "execute_result",
     "data": {
      "text/plain": [
       "     Date  Place_0  Place_1  Place_2  Place_3  Place_4     Area  Crop_0  \\\n",
       "0  735629        0        0        0        0        1  0.42839       0   \n",
       "1  735657        0        0        0        0        1  0.42839       0   \n",
       "2  735688        0        0        0        0        1  0.42839       0   \n",
       "3  735718        0        0        0        0        1  0.42839       0   \n",
       "4  735749        0        0        0        0        1  0.42839       0   \n",
       "\n",
       "   Crop_1  Crop_2  Crop_3  Crop_4  Production  \n",
       "0       0       0       0       1    0.075389  \n",
       "1       0       0       0       1    0.175908  \n",
       "2       0       0       0       1    0.276427  \n",
       "3       0       0       0       1    0.175908  \n",
       "4       0       0       0       1    0.301557  "
      ],
      "text/html": "<div>\n<style scoped>\n    .dataframe tbody tr th:only-of-type {\n        vertical-align: middle;\n    }\n\n    .dataframe tbody tr th {\n        vertical-align: top;\n    }\n\n    .dataframe thead th {\n        text-align: right;\n    }\n</style>\n<table border=\"1\" class=\"dataframe\">\n  <thead>\n    <tr style=\"text-align: right;\">\n      <th></th>\n      <th>Date</th>\n      <th>Place_0</th>\n      <th>Place_1</th>\n      <th>Place_2</th>\n      <th>Place_3</th>\n      <th>Place_4</th>\n      <th>Area</th>\n      <th>Crop_0</th>\n      <th>Crop_1</th>\n      <th>Crop_2</th>\n      <th>Crop_3</th>\n      <th>Crop_4</th>\n      <th>Production</th>\n    </tr>\n  </thead>\n  <tbody>\n    <tr>\n      <th>0</th>\n      <td>735629</td>\n      <td>0</td>\n      <td>0</td>\n      <td>0</td>\n      <td>0</td>\n      <td>1</td>\n      <td>0.42839</td>\n      <td>0</td>\n      <td>0</td>\n      <td>0</td>\n      <td>0</td>\n      <td>1</td>\n      <td>0.075389</td>\n    </tr>\n    <tr>\n      <th>1</th>\n      <td>735657</td>\n      <td>0</td>\n      <td>0</td>\n      <td>0</td>\n      <td>0</td>\n      <td>1</td>\n      <td>0.42839</td>\n      <td>0</td>\n      <td>0</td>\n      <td>0</td>\n      <td>0</td>\n      <td>1</td>\n      <td>0.175908</td>\n    </tr>\n    <tr>\n      <th>2</th>\n      <td>735688</td>\n      <td>0</td>\n      <td>0</td>\n      <td>0</td>\n      <td>0</td>\n      <td>1</td>\n      <td>0.42839</td>\n      <td>0</td>\n      <td>0</td>\n      <td>0</td>\n      <td>0</td>\n      <td>1</td>\n      <td>0.276427</td>\n    </tr>\n    <tr>\n      <th>3</th>\n      <td>735718</td>\n      <td>0</td>\n      <td>0</td>\n      <td>0</td>\n      <td>0</td>\n      <td>1</td>\n      <td>0.42839</td>\n      <td>0</td>\n      <td>0</td>\n      <td>0</td>\n      <td>0</td>\n      <td>1</td>\n      <td>0.175908</td>\n    </tr>\n    <tr>\n      <th>4</th>\n      <td>735749</td>\n      <td>0</td>\n      <td>0</td>\n      <td>0</td>\n      <td>0</td>\n      <td>1</td>\n      <td>0.42839</td>\n      <td>0</td>\n      <td>0</td>\n      <td>0</td>\n      <td>0</td>\n      <td>1</td>\n      <td>0.301557</td>\n    </tr>\n  </tbody>\n</table>\n</div>"
     },
     "metadata": {},
     "execution_count": 59
    }
   ],
   "source": [
    "#Scale dataset\n",
    "\n",
    "from sklearn.preprocessing import MinMaxScaler,RobustScaler,MaxAbsScaler\n",
    "    \n",
    "scaler = MaxAbsScaler()\n",
    "categorical_features = list(df_subset.columns[df_subset.dtypes == float])\n",
    "encoder_df[categorical_features] = scaler.fit_transform(encoder_df[categorical_features])\n",
    "encoder_df.head()"
   ]
  },
  {
   "cell_type": "code",
   "execution_count": 68,
   "metadata": {},
   "outputs": [],
   "source": [
    "# Split the dataset into train and test. The default size of the split ratio is 3:1\n",
    "\n",
    "def data_split(df, label):\n",
    "    \n",
    "    from sklearn.model_selection import train_test_split\n",
    "\n",
    "    X = df.drop(label, axis=1)\n",
    "    Y = df[label]\n",
    "\n",
    "    x_train, x_test, y_train, y_test = train_test_split(X,Y,test_size=0.2,random_state=20)\n",
    "    \n",
    "    return x_train, x_test, y_train, y_test\n",
    "\n",
    "#apply the function\n",
    "X_train, X_test, Y_train, Y_test = data_split(encoder_df, 'Production')\n",
    "\n",
    "x_train = X_train.values\n",
    "x_test = X_test.values\n",
    "y_train = Y_train.values\n",
    "y_test = Y_test.values\n"
   ]
  },
  {
   "cell_type": "code",
   "execution_count": 69,
   "metadata": {},
   "outputs": [],
   "source": [
    "from sklearn.model_selection import GridSearchCV\n",
    "\n",
    "class EstimatorSelectionHelper:\n",
    "\n",
    "    def __init__(self, models, params):\n",
    "        if not set(models.keys()).issubset(set(params.keys())):\n",
    "            missing_params = list(set(models.keys()) - set(params.keys()))\n",
    "            raise ValueError(\"Some estimators are missing parameters: %s\" % missing_params)\n",
    "        self.models = models\n",
    "        self.params = params\n",
    "        self.keys = models.keys()\n",
    "        self.grid_searches = {}\n",
    "\n",
    "    def fit(self, X, y, cv=3, n_jobs=-1, verbose=1, scoring=None, refit=False):\n",
    "        for key in self.keys:\n",
    "            print(\"\\nRunning GridSearchCV for %s.\" % key)\n",
    "            model = self.models[key]\n",
    "            params = self.params[key]\n",
    "            gs = GridSearchCV(model, params, cv=cv, n_jobs=n_jobs,\n",
    "                              verbose=verbose, scoring=scoring, refit=refit,\n",
    "                              return_train_score=True)\n",
    "            gs.fit(X,y)\n",
    "            self.grid_searches[key] = gs\n",
    "            print('\\nMAE: %.3f' % gs.best_score_)\n",
    "            print('Config: %s' % gs.best_params_)\n"
   ]
  },
  {
   "cell_type": "code",
   "execution_count": 70,
   "metadata": {},
   "outputs": [],
   "source": [
    "models1 = {\n",
    "    'krr': KernelRidge(),\n",
    "    'lasso': Lasso(),\n",
    "    'enet': ElasticNet()\n",
    "}\n",
    "\n",
    "params1 = {\n",
    "    'krr': [{'kernel': ['linear'], 'alpha': [0, 1, 0.01], 'gamma': [0.001, 0.0001]},\n",
    "            {'kernel': ['rbf'], 'alpha': [0, 1, 0.01], 'gamma': [0.001, 0.0001]}],\n",
    "    'lasso': { 'alpha': [5, 0.5, 0.05, 0.005, 0.0005, 1, 0.1, 0.01,0.001, 0.0001, 0 ]},\n",
    "    'enet':  { 'alpha': [5, 0.5, 0.05, 0.005, 0.0005, 1, 0.1, 0.01,0.001, 0.0001, 0 ],\n",
    "                        'l1_ratio':[0.001, 0.1, 100] }\n",
    "}"
   ]
  },
  {
   "cell_type": "code",
   "execution_count": 71,
   "metadata": {},
   "outputs": [
    {
     "output_type": "stream",
     "name": "stdout",
     "text": [
      "\n",
      "Running GridSearchCV for krr.\n",
      "Fitting 3 folds for each of 12 candidates, totalling 36 fits\n",
      "\n",
      "MAE: -0.026\n",
      "Config: {'alpha': 0.01, 'gamma': 0.001, 'kernel': 'linear'}\n",
      "\n",
      "Running GridSearchCV for lasso.\n",
      "Fitting 3 folds for each of 11 candidates, totalling 33 fits\n",
      "\n",
      "MAE: -0.025\n",
      "Config: {'alpha': 0.0005}\n",
      "\n",
      "Running GridSearchCV for enet.\n",
      "Fitting 3 folds for each of 33 candidates, totalling 99 fits\n",
      "\n",
      "MAE: -0.025\n",
      "Config: {'alpha': 0.0001, 'l1_ratio': 0.1}\n",
      "C:\\ProgramData\\Anaconda3\\lib\\site-packages\\sklearn\\model_selection\\_search.py:922: UserWarning: One or more of the test scores are non-finite: [-0.05416223 -0.05491287         nan -0.04750094 -0.05490563         nan\n",
      " -0.04069812 -0.04185149         nan -0.02838426 -0.02793062         nan\n",
      " -0.02540969 -0.0253041          nan -0.05043376 -0.05490635         nan\n",
      " -0.0430345  -0.05044682         nan -0.03156257 -0.0309675          nan\n",
      " -0.02562068 -0.02542851         nan -0.02530298 -0.02527978         nan\n",
      " -0.02528433 -0.02528433         nan]\n",
      "  warnings.warn(\n",
      "C:\\ProgramData\\Anaconda3\\lib\\site-packages\\sklearn\\model_selection\\_search.py:922: UserWarning: One or more of the train scores are non-finite: [-0.05409627 -0.05485013         nan -0.04743176 -0.05484309         nan\n",
      " -0.04060087 -0.04177339         nan -0.02831612 -0.02786116         nan\n",
      " -0.02537053 -0.02526167         nan -0.05037061 -0.05484372         nan\n",
      " -0.04296508 -0.05035183         nan -0.03148423 -0.03090109         nan\n",
      " -0.0255725  -0.02537715         nan -0.02526802 -0.02524494         nan\n",
      " -0.0252507  -0.0252507          nan]\n",
      "  warnings.warn(\n"
     ]
    }
   ],
   "source": [
    "helper1 = EstimatorSelectionHelper(models1, params1)\n",
    "helper1.fit(x_train, y_train, scoring='neg_mean_absolute_error', n_jobs=-1)"
   ]
  },
  {
   "source": [
    "## KERNEL RIDGE REGRESSION"
   ],
   "cell_type": "markdown",
   "metadata": {}
  },
  {
   "cell_type": "code",
   "execution_count": 72,
   "metadata": {},
   "outputs": [
    {
     "output_type": "stream",
     "name": "stderr",
     "text": [
      "C:\\ProgramData\\Anaconda3\\lib\\site-packages\\sklearn\\linear_model\\_ridge.py:190: UserWarning: Singular matrix in solving dual problem. Using least-squares solution instead.\n",
      "  warnings.warn(\"Singular matrix in solving dual problem. Using \"\n",
      "RSME: 0.058292669430268944\n",
      "Training Accuracy of our model is: 64.50% \n",
      "Test Accuracy of our model is:  65.31% \n"
     ]
    }
   ],
   "source": [
    "krr = KernelRidge(kernel ='linear', alpha=0.01, gamma = 0.001)\n",
    "krr.fit(x_train,y_train)\n",
    "\n",
    "preds1 = krr.predict(x_test)\n",
    "y_pred1 = np.exp(preds1)-1\n",
    "rsme_valid1 = np.sqrt(mean_squared_error(y_test,preds1))\n",
    "\n",
    "\n",
    "train_score = krr.score(x_train,y_train)\n",
    "test_score = krr.score(x_test,y_test)\n",
    "\n",
    "print('RSME:', rsme_valid1)\n",
    "print(f'Training Accuracy of our model is: %.2f%% ' %(train_score*100.0))\n",
    "print(f'Test Accuracy of our model is:  %.2f%% ' %  (test_score*100.0))"
   ]
  },
  {
   "source": [
    "## ENET REGRESSION"
   ],
   "cell_type": "markdown",
   "metadata": {}
  },
  {
   "cell_type": "code",
   "execution_count": 73,
   "metadata": {},
   "outputs": [
    {
     "output_type": "stream",
     "name": "stdout",
     "text": [
      "RSME: 0.05835496445756635\nTraining Accuracy of our model is: 64.61% \nTest Accuracy of our model is:  65.24% \n"
     ]
    }
   ],
   "source": [
    "enet = ElasticNet(alpha=0.0001, l1_ratio=0.1)\n",
    "# fit model\n",
    "enet.fit(x_train, y_train)\n",
    "\n",
    "enet_pred = enet.predict(x_test)\n",
    "rsme_enet = np.sqrt(mean_squared_error(y_test,enet_pred))\n",
    "\n",
    "train_score = enet.score(x_train,y_train)\n",
    "test_score = enet.score(x_test,y_test)\n",
    "\n",
    "print('RSME:', rsme_enet)\n",
    "print(f'Training Accuracy of our model is: %.2f%% ' %(train_score*100.0))\n",
    "print(f'Test Accuracy of our model is:  %.2f%% ' %  (test_score*100.0))"
   ]
  },
  {
   "source": [
    "## LASSO REGRESSION"
   ],
   "cell_type": "markdown",
   "metadata": {}
  },
  {
   "cell_type": "code",
   "execution_count": 74,
   "metadata": {},
   "outputs": [
    {
     "output_type": "stream",
     "name": "stdout",
     "text": [
      "RSME: 0.06980691152308349\nTraining Accuracy of our model is: 51.36% \nTest Accuracy of our model is:  50.25% \n"
     ]
    }
   ],
   "source": [
    "\n",
    "#Initializing the Lasso Regressor with Normalization Factor as True\n",
    "lasso = Lasso(alpha = 0.0005,normalize=True)\n",
    "\n",
    "#Fitting the Training data to the Lasso regressor\n",
    "lasso.fit(x_train,y_train)\n",
    "\n",
    "#Predicting for X_test\n",
    "lasso_pred =lasso.predict(x_test)\n",
    "\n",
    "rsme_lasso = np.sqrt(mean_squared_error(y_test,lasso_pred))\n",
    "\n",
    "train_score = lasso.score(x_train,y_train)\n",
    "test_score = lasso.score(x_test,y_test)\n",
    "\n",
    "print('RSME:', rsme_lasso)\n",
    "print(f'Training Accuracy of our model is: %.2f%% ' %(train_score*100.0))\n",
    "print(f'Test Accuracy of our model is:  %.2f%% ' %  (test_score*100.0))"
   ]
  },
  {
   "cell_type": "code",
   "execution_count": 25,
   "metadata": {},
   "outputs": [
    {
     "output_type": "stream",
     "name": "stderr",
     "text": [
      "C:\\ProgramData\\Anaconda3\\lib\\site-packages\\sklearn\\linear_model\\_ridge.py:190: UserWarning: Singular matrix in solving dual problem. Using least-squares solution instead.\n",
      "  warnings.warn(\"Singular matrix in solving dual problem. Using \"\n",
      "C:\\ProgramData\\Anaconda3\\lib\\site-packages\\sklearn\\linear_model\\_ridge.py:190: UserWarning: Singular matrix in solving dual problem. Using least-squares solution instead.\n",
      "  warnings.warn(\"Singular matrix in solving dual problem. Using \"\n",
      "C:\\ProgramData\\Anaconda3\\lib\\site-packages\\sklearn\\linear_model\\_ridge.py:190: UserWarning: Singular matrix in solving dual problem. Using least-squares solution instead.\n",
      "  warnings.warn(\"Singular matrix in solving dual problem. Using \"\n",
      "C:\\ProgramData\\Anaconda3\\lib\\site-packages\\sklearn\\linear_model\\_ridge.py:190: UserWarning: Singular matrix in solving dual problem. Using least-squares solution instead.\n",
      "  warnings.warn(\"Singular matrix in solving dual problem. Using \"\n",
      "C:\\ProgramData\\Anaconda3\\lib\\site-packages\\sklearn\\linear_model\\_ridge.py:190: UserWarning: Singular matrix in solving dual problem. Using least-squares solution instead.\n",
      "  warnings.warn(\"Singular matrix in solving dual problem. Using \"\n",
      "C:\\ProgramData\\Anaconda3\\lib\\site-packages\\sklearn\\linear_model\\_ridge.py:190: UserWarning: Singular matrix in solving dual problem. Using least-squares solution instead.\n",
      "  warnings.warn(\"Singular matrix in solving dual problem. Using \"\n",
      "C:\\ProgramData\\Anaconda3\\lib\\site-packages\\sklearn\\linear_model\\_ridge.py:190: UserWarning: Singular matrix in solving dual problem. Using least-squares solution instead.\n",
      "  warnings.warn(\"Singular matrix in solving dual problem. Using \"\n",
      "C:\\ProgramData\\Anaconda3\\lib\\site-packages\\sklearn\\linear_model\\_ridge.py:190: UserWarning: Singular matrix in solving dual problem. Using least-squares solution instead.\n",
      "  warnings.warn(\"Singular matrix in solving dual problem. Using \"\n",
      "C:\\ProgramData\\Anaconda3\\lib\\site-packages\\sklearn\\linear_model\\_ridge.py:190: UserWarning: Singular matrix in solving dual problem. Using least-squares solution instead.\n",
      "  warnings.warn(\"Singular matrix in solving dual problem. Using \"\n",
      "C:\\ProgramData\\Anaconda3\\lib\\site-packages\\sklearn\\linear_model\\_ridge.py:190: UserWarning: Singular matrix in solving dual problem. Using least-squares solution instead.\n",
      "  warnings.warn(\"Singular matrix in solving dual problem. Using \"\n",
      "C:\\ProgramData\\Anaconda3\\lib\\site-packages\\sklearn\\linear_model\\_ridge.py:190: UserWarning: Singular matrix in solving dual problem. Using least-squares solution instead.\n",
      "  warnings.warn(\"Singular matrix in solving dual problem. Using \"\n",
      "\n",
      "Model performance for Training set\n",
      "- Accuracy: 64.00020388138083\n",
      "- RSME: 0.060281404132719346\n",
      "- R2 score: 0.6400020388138082\n",
      "----------------------------------\n",
      "Model performance for Test set\n",
      "- Accuracy: 66.25871497562773\n",
      "- RMSE: 0.05909663740813565\n",
      "- R2 score: 0.6625871497562773\n"
     ]
    }
   ],
   "source": [
    "# Define estimators\n",
    "from sklearn.ensemble import StackingRegressor\n",
    "from sklearn.linear_model import LinearRegression, LassoLars\n",
    "from sklearn.metrics import matthews_corrcoef\n",
    "from sklearn.metrics import f1_score, r2_score\n",
    "\n",
    "estimator_list = [\n",
    "    ('krr',krr),\n",
    "    ('lasso',lasso),\n",
    "    ('enet',enet)]\n",
    "\n",
    "# Build stack model\n",
    "stack_model = StackingRegressor(estimators=estimator_list, final_estimator=LinearRegression(),cv=10)\n",
    "\n",
    "# Train stacked model\n",
    "stack_model.fit(x_train, y_train)\n",
    "\n",
    "# Make predictions\n",
    "y_train_pred = stack_model.predict(x_train)\n",
    "y_test_pred = stack_model.predict(x_test)\n",
    "\n",
    "# Training set model performance\n",
    "stack_model_train_accuracy = stack_model.score(x_train,y_train)*100.0\n",
    "stack_model_train_rsme = np.sqrt(mean_squared_error(y_train,y_train_pred)) \n",
    "stack_model_train_r2 = r2_score(y_train, y_train_pred) # Calculate F1-score\n",
    "\n",
    "# Test set model performance\n",
    "stack_model_test_accuracy = stack_model.score(x_test,y_test)*100.0 # Calculate Accuracy\n",
    "stack_model_test_rsme = np.sqrt(mean_squared_error(y_test,y_test_pred)) # Calculate MCC\n",
    "stack_model_test_r2 = r2_score(y_test, y_test_pred) # Calculate F1-score\n",
    "\n",
    "print('\\nModel performance for Training set')\n",
    "print('- Accuracy: %s' % stack_model_train_accuracy)\n",
    "print('- RSME: %s' % stack_model_train_rsme)\n",
    "print('- R2 score: %s' % stack_model_train_r2)\n",
    "print('----------------------------------')\n",
    "print('Model performance for Test set')\n",
    "print('- Accuracy: %s' % stack_model_test_accuracy)\n",
    "print('- RMSE: %s' % stack_model_test_rsme)\n",
    "print('- R2 score: %s' % stack_model_test_r2)"
   ]
  },
  {
   "cell_type": "code",
   "execution_count": null,
   "metadata": {},
   "outputs": [],
   "source": []
  }
 ]
}